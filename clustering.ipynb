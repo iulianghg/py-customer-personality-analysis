{
 "cells": [
  {
   "cell_type": "code",
   "execution_count": 7,
   "metadata": {},
   "outputs": [],
   "source": [
    "import pandas as pd"
   ]
  },
  {
   "cell_type": "code",
   "execution_count": null,
   "metadata": {},
   "outputs": [],
   "source": [
    "data = pd.read_csv(\"./data/clean_df_1.csv\")"
   ]
  },
  {
   "cell_type": "code",
   "execution_count": 14,
   "metadata": {},
   "outputs": [
    {
     "name": "stdout",
     "output_type": "stream",
     "text": [
      "Oldest customer join date:  2012-01-08\n",
      "Newest customer join date: 2014-12-06\n"
     ]
    }
   ],
   "source": [
    "data[\"Dt_Customer\"] = pd.to_datetime(data[\"Dt_Customer\"])\n",
    "dates = []\n",
    "for value in data[\"Dt_Customer\"]:\n",
    "    value = value.date()\n",
    "    dates.append(value)\n",
    "\n",
    "print(\"Oldest customer join date: \", min(dates))\n",
    "print(\"Newest customer join date:\", max(dates))\n",
    "\n",
    "# Get newest customer date\n",
    "number_of_days = []\n",
    "ref_date = max(dates)\n",
    "for d in dates:\n",
    "    delta = ref_date - d\n",
    "    number_of_days.append(delta)\n",
    "\n",
    "# Create 'Customer_For' feature\n",
    "data[\"Customer_For\"] = number_of_days\n",
    "data[\"Customer_For\"] = pd.to_numeric(data[\"Customer_For\"], errors=\"coerce\")"
   ]
  },
  {
   "cell_type": "markdown",
   "metadata": {},
   "source": [
    "Explore unique values in categorical features to get a clearer picture of data"
   ]
  },
  {
   "cell_type": "code",
   "execution_count": 17,
   "metadata": {},
   "outputs": [
    {
     "name": "stdout",
     "output_type": "stream",
     "text": [
      "Marital_Status:\n",
      " Married     857\n",
      "Together    573\n",
      "Single      471\n",
      "Divorced    232\n",
      "Widow        76\n",
      "Alone         3\n",
      "Absurd        2\n",
      "YOLO          2\n",
      "Name: Marital_Status, dtype: int64 \n",
      "\n",
      "Education:\n",
      " Graduation    1116\n",
      "PhD            481\n",
      "Master         365\n",
      "2n Cycle       200\n",
      "Basic           54\n",
      "Name: Education, dtype: int64 \n",
      "\n"
     ]
    }
   ],
   "source": [
    "print(\"Marital_Status:\\n\", data[\"Marital_Status\"].value_counts(), \"\\n\")\n",
    "print(\"Education:\\n\", data[\"Education\"].value_counts(), \"\\n\")"
   ]
  },
  {
   "cell_type": "markdown",
   "metadata": {},
   "source": [
    "Further feature engineering"
   ]
  },
  {
   "cell_type": "code",
   "execution_count": null,
   "metadata": {},
   "outputs": [],
   "source": []
  }
 ],
 "metadata": {
  "interpreter": {
   "hash": "ee5b2442cf6708a7a44b597d1e952eb51f481c35e03002557ac4db08bb508a02"
  },
  "kernelspec": {
   "display_name": "Python 3.9.7 64-bit",
   "name": "python3"
  },
  "language_info": {
   "codemirror_mode": {
    "name": "ipython",
    "version": 3
   },
   "file_extension": ".py",
   "mimetype": "text/x-python",
   "name": "python",
   "nbconvert_exporter": "python",
   "pygments_lexer": "ipython3",
   "version": "3.9.7"
  },
  "orig_nbformat": 4
 },
 "nbformat": 4,
 "nbformat_minor": 2
}
